{
 "cells": [
  {
   "cell_type": "code",
   "execution_count": 1,
   "id": "cfed4ff2",
   "metadata": {},
   "outputs": [],
   "source": [
    "# Importem llibreries\n",
    "import pandas as pd\n",
    "import os\n",
    "from pathlib import Path\n",
    "import matplotlib.pyplot as plt\n",
    "import seaborn as sns"
   ]
  },
  {
   "cell_type": "code",
   "execution_count": 2,
   "id": "4e7c82dc",
   "metadata": {},
   "outputs": [
    {
     "name": "stderr",
     "output_type": "stream",
     "text": [
      "/var/folders/83/gt48b8vj7tbdkb4w2zf5n42m0000gn/T/ipykernel_9382/2985880895.py:11: ParserWarning: Skipping line 2938804: expected 4 fields, saw 5\n",
      "\n",
      "  df = pd.read_csv(f, on_bad_lines='warn')\n"
     ]
    }
   ],
   "source": [
    "# Ruta de les dades de trànsit\n",
    "folder_path = Path(\"/Users/guillemlopezcolomer/Desktop/TFG/traffic-prediction-tfg/data/Estat_transit\")\n",
    "\n",
    "# Fitxers csv\n",
    "csv_files = sorted(folder_path.glob(\"*.csv\"))\n",
    "\n",
    "# Els llegeix i els concatena\n",
    "df_list = []\n",
    "for f in csv_files:\n",
    "    try:\n",
    "        df = pd.read_csv(f, on_bad_lines='warn')\n",
    "        df[\"source_file\"] = f.name\n",
    "        df_list.append(df)\n",
    "    except Exception as e:\n",
    "        print(f\"Error llegint {f.name}: {e}\")\n",
    "\n",
    "df = pd.concat(df_list, ignore_index=True)"
   ]
  },
  {
   "cell_type": "code",
   "execution_count": 5,
   "id": "722a6774",
   "metadata": {},
   "outputs": [
    {
     "name": "stdout",
     "output_type": "stream",
     "text": [
      "<class 'pandas.core.frame.DataFrame'>\n",
      "RangeIndex: 243909993 entries, 0 to 243909992\n",
      "Data columns (total 5 columns):\n",
      " #   Column        Dtype \n",
      "---  ------        ----- \n",
      " 0   idTram        int64 \n",
      " 1   data          int64 \n",
      " 2   estatActual   int64 \n",
      " 3   estatPrevist  int64 \n",
      " 4   source_file   object\n",
      "dtypes: int64(4), object(1)\n",
      "memory usage: 9.1+ GB\n"
     ]
    }
   ],
   "source": [
    "df.info()"
   ]
  },
  {
   "cell_type": "markdown",
   "id": "c730b7bb",
   "metadata": {},
   "source": [
    "Corregim la variable data per tal que el seu tipus sigui datetime en comptes d'integer."
   ]
  },
  {
   "cell_type": "code",
   "execution_count": 6,
   "id": "9c04cb41",
   "metadata": {},
   "outputs": [],
   "source": [
    "# Format de la data\n",
    "df[\"data\"] = pd.to_datetime(df[\"data\"], format=\"%Y%m%d%H%M%S\", errors='coerce')\n"
   ]
  },
  {
   "cell_type": "code",
   "execution_count": 9,
   "id": "1042e377",
   "metadata": {},
   "outputs": [
    {
     "name": "stdout",
     "output_type": "stream",
     "text": [
      "Valors nuls per columna:\n",
      " idTram          0.0\n",
      "data            0.0\n",
      "estatActual     0.0\n",
      "estatPrevist    0.0\n",
      "source_file     0.0\n",
      "dtype: float64\n"
     ]
    }
   ],
   "source": [
    "print(\"Valors nuls per columna:\\n\", df.isnull().mean()*100)"
   ]
  },
  {
   "cell_type": "markdown",
   "id": "f4f6fab8",
   "metadata": {},
   "source": [
    "No tenim valors nuls en cap columna?"
   ]
  },
  {
   "cell_type": "code",
   "execution_count": 12,
   "id": "20db01c4",
   "metadata": {},
   "outputs": [
    {
     "name": "stdout",
     "output_type": "stream",
     "text": [
      "   idTram            data  estatActual  estatPrevist\n",
      "0       1  20171001002055            1             1\n",
      "1       2  20171001002055            1             1\n",
      "2       3  20171001002055            0             0\n",
      "3       4  20171001002055            2             2\n",
      "4       5  20171001002055            1             1\n",
      "5       6  20171001002055            1             1\n",
      "6       7  20171001002055            1             1\n",
      "7       8  20171001002055            1             1\n",
      "8       9  20171001002055            1             1\n",
      "9      10  20171001002055            1             1\n"
     ]
    }
   ],
   "source": [
    "import duckdb\n",
    "\n",
    "# Ruta al directori amb els fitxers\n",
    "carpeta_csv = \"/Users/guillemlopezcolomer/Desktop/tfg/traffic-prediction-tfg/data/Estat_transit/\"\n",
    "\n",
    "# Consulta tots els fitxers CSV dins la carpeta, sense carregar-los en RAM\n",
    "query = f\"\"\"\n",
    "SELECT * \n",
    "FROM read_csv_auto('{carpeta_csv}*.csv', AUTO_DETECT=TRUE)\n",
    "LIMIT 10\n",
    "\"\"\"\n",
    "\n",
    "# Executa i mostra resultats\n",
    "resultats = duckdb.query(query).to_df()\n",
    "print(resultats)\n"
   ]
  },
  {
   "cell_type": "code",
   "execution_count": 19,
   "id": "c72c76be",
   "metadata": {},
   "outputs": [
    {
     "name": "stdout",
     "output_type": "stream",
     "text": [
      "Empty DataFrame\n",
      "Columns: [idTram, num_files, mitjana_estat]\n",
      "Index: []\n"
     ]
    }
   ],
   "source": [
    "query = f\"\"\"\n",
    "SELECT \n",
    "    idTram, \n",
    "    COUNT(*) AS num_files, \n",
    "    AVG(estatActual) AS mitjana_estat\n",
    "FROM read_csv_auto('{carpeta_csv}*_TRAMS_TRAMS.csv')\n",
    "WHERE data > 202101010000 AND data < 202101312359\n",
    "GROUP BY idTram\n",
    "ORDER BY mitjana_estat DESC\n",
    "LIMIT 10\n",
    "\"\"\"\n",
    "resultats = duckdb.query(query).to_df()\n",
    "print(resultats)\n"
   ]
  },
  {
   "cell_type": "code",
   "execution_count": 17,
   "id": "55a5cc0f",
   "metadata": {},
   "outputs": [
    {
     "data": {
      "text/html": [
       "<div>\n",
       "<style scoped>\n",
       "    .dataframe tbody tr th:only-of-type {\n",
       "        vertical-align: middle;\n",
       "    }\n",
       "\n",
       "    .dataframe tbody tr th {\n",
       "        vertical-align: top;\n",
       "    }\n",
       "\n",
       "    .dataframe thead th {\n",
       "        text-align: right;\n",
       "    }\n",
       "</style>\n",
       "<table border=\"1\" class=\"dataframe\">\n",
       "  <thead>\n",
       "    <tr style=\"text-align: right;\">\n",
       "      <th></th>\n",
       "      <th>num_files</th>\n",
       "    </tr>\n",
       "  </thead>\n",
       "  <tbody>\n",
       "    <tr>\n",
       "      <th>0</th>\n",
       "      <td>243909994</td>\n",
       "    </tr>\n",
       "  </tbody>\n",
       "</table>\n",
       "</div>"
      ],
      "text/plain": [
       "   num_files\n",
       "0  243909994"
      ]
     },
     "execution_count": 17,
     "metadata": {},
     "output_type": "execute_result"
    }
   ],
   "source": [
    "query = f\"\"\"\n",
    "SELECT COUNT(*) AS num_files\n",
    "FROM read_csv_auto('{carpeta_csv}*_TRAMS_TRAMS.csv', \n",
    "                   AUTO_DETECT=TRUE, \n",
    "                   IGNORE_ERRORS=TRUE)\n",
    "\"\"\"\n",
    "duckdb.query(query).to_df()\n"
   ]
  },
  {
   "cell_type": "code",
   "execution_count": 20,
   "id": "3f93dd92",
   "metadata": {},
   "outputs": [
    {
     "name": "stdout",
     "output_type": "stream",
     "text": [
      "78 fitxers trobats:\n",
      "['/Users/guillemlopezcolomer/Desktop/tfg/traffic-prediction-tfg/data/Estat_transit/2022_08_Agost_TRAMS_TRAMS.csv', '/Users/guillemlopezcolomer/Desktop/tfg/traffic-prediction-tfg/data/Estat_transit/2022_12_Desembre_TRAMS_TRAMS.csv', '/Users/guillemlopezcolomer/Desktop/tfg/traffic-prediction-tfg/data/Estat_transit/2023_06_Juny_TRAMS_TRAMS.csv', '/Users/guillemlopezcolomer/Desktop/tfg/traffic-prediction-tfg/data/Estat_transit/2024_04_Abril_TRAMS_TRAMS.csv', '/Users/guillemlopezcolomer/Desktop/tfg/traffic-prediction-tfg/data/Estat_transit/2018_05_Maig_TRAMS_TRAMS.csv']\n"
     ]
    }
   ],
   "source": [
    "import glob\n",
    "import os\n",
    "\n",
    "fitxers = glob.glob(os.path.join(carpeta_csv, \"*_TRAMS_TRAMS.csv\"))\n",
    "print(f\"{len(fitxers)} fitxers trobats:\")\n",
    "print(fitxers[:5])"
   ]
  },
  {
   "cell_type": "code",
   "execution_count": 21,
   "id": "281a88a3",
   "metadata": {},
   "outputs": [
    {
     "name": "stdout",
     "output_type": "stream",
     "text": [
      "   idTram            data  estatActual  estatPrevist\n",
      "0       1  20171001002055            1             1\n",
      "1       2  20171001002055            1             1\n",
      "2       3  20171001002055            0             0\n",
      "3       4  20171001002055            2             2\n",
      "4       5  20171001002055            1             1\n"
     ]
    }
   ],
   "source": [
    "df_test = duckdb.query(f\"\"\"\n",
    "SELECT * \n",
    "FROM read_csv_auto('{carpeta_csv}*_TRAMS_TRAMS.csv', \n",
    "                   AUTO_DETECT=TRUE, \n",
    "                   IGNORE_ERRORS=TRUE)\n",
    "LIMIT 5\n",
    "\"\"\").to_df()\n",
    "\n",
    "print(df_test)\n"
   ]
  },
  {
   "cell_type": "code",
   "execution_count": 22,
   "id": "d96368f8",
   "metadata": {},
   "outputs": [
    {
     "data": {
      "text/plain": [
       "Index(['idTram', 'data', 'estatActual', 'estatPrevist'], dtype='object')"
      ]
     },
     "execution_count": 22,
     "metadata": {},
     "output_type": "execute_result"
    }
   ],
   "source": [
    "duckdb.query(f\"\"\"\n",
    "SELECT * \n",
    "FROM read_csv_auto('{carpeta_csv}*_TRAMS_TRAMS.csv', \n",
    "                   AUTO_DETECT=TRUE, \n",
    "                   IGNORE_ERRORS=TRUE)\n",
    "LIMIT 1\n",
    "\"\"\").df().columns\n"
   ]
  },
  {
   "cell_type": "code",
   "execution_count": 26,
   "id": "4b74d4e6",
   "metadata": {},
   "outputs": [
    {
     "data": {
      "text/html": [
       "<div>\n",
       "<style scoped>\n",
       "    .dataframe tbody tr th:only-of-type {\n",
       "        vertical-align: middle;\n",
       "    }\n",
       "\n",
       "    .dataframe tbody tr th {\n",
       "        vertical-align: top;\n",
       "    }\n",
       "\n",
       "    .dataframe thead th {\n",
       "        text-align: right;\n",
       "    }\n",
       "</style>\n",
       "<table border=\"1\" class=\"dataframe\">\n",
       "  <thead>\n",
       "    <tr style=\"text-align: right;\">\n",
       "      <th></th>\n",
       "      <th>idTram</th>\n",
       "      <th>num_files</th>\n",
       "      <th>mitjana_estat</th>\n",
       "    </tr>\n",
       "  </thead>\n",
       "  <tbody>\n",
       "    <tr>\n",
       "      <th>0</th>\n",
       "      <td>453</td>\n",
       "      <td>27020</td>\n",
       "      <td>4.246817</td>\n",
       "    </tr>\n",
       "    <tr>\n",
       "      <th>1</th>\n",
       "      <td>22</td>\n",
       "      <td>326706</td>\n",
       "      <td>2.966615</td>\n",
       "    </tr>\n",
       "    <tr>\n",
       "      <th>2</th>\n",
       "      <td>2003</td>\n",
       "      <td>12</td>\n",
       "      <td>2.833333</td>\n",
       "    </tr>\n",
       "    <tr>\n",
       "      <th>3</th>\n",
       "      <td>83</td>\n",
       "      <td>319801</td>\n",
       "      <td>2.806154</td>\n",
       "    </tr>\n",
       "    <tr>\n",
       "      <th>4</th>\n",
       "      <td>445</td>\n",
       "      <td>310381</td>\n",
       "      <td>2.759496</td>\n",
       "    </tr>\n",
       "    <tr>\n",
       "      <th>5</th>\n",
       "      <td>58</td>\n",
       "      <td>309438</td>\n",
       "      <td>2.756003</td>\n",
       "    </tr>\n",
       "    <tr>\n",
       "      <th>6</th>\n",
       "      <td>57</td>\n",
       "      <td>309411</td>\n",
       "      <td>2.755852</td>\n",
       "    </tr>\n",
       "    <tr>\n",
       "      <th>7</th>\n",
       "      <td>96</td>\n",
       "      <td>15249</td>\n",
       "      <td>2.683258</td>\n",
       "    </tr>\n",
       "    <tr>\n",
       "      <th>8</th>\n",
       "      <td>538</td>\n",
       "      <td>123519</td>\n",
       "      <td>2.676277</td>\n",
       "    </tr>\n",
       "    <tr>\n",
       "      <th>9</th>\n",
       "      <td>132</td>\n",
       "      <td>367183</td>\n",
       "      <td>2.657323</td>\n",
       "    </tr>\n",
       "  </tbody>\n",
       "</table>\n",
       "</div>"
      ],
      "text/plain": [
       "   idTram  num_files  mitjana_estat\n",
       "0     453      27020       4.246817\n",
       "1      22     326706       2.966615\n",
       "2    2003         12       2.833333\n",
       "3      83     319801       2.806154\n",
       "4     445     310381       2.759496\n",
       "5      58     309438       2.756003\n",
       "6      57     309411       2.755852\n",
       "7      96      15249       2.683258\n",
       "8     538     123519       2.676277\n",
       "9     132     367183       2.657323"
      ]
     },
     "execution_count": 26,
     "metadata": {},
     "output_type": "execute_result"
    }
   ],
   "source": [
    "duckdb.query(f\"\"\"\n",
    "SELECT \n",
    "    idTram,\n",
    "    COUNT(*) AS num_files,\n",
    "    AVG(estatActual) AS mitjana_estat\n",
    "FROM read_csv_auto('{carpeta_csv}*_TRAMS_TRAMS.csv', \n",
    "                   AUTO_DETECT=TRUE, \n",
    "                   IGNORE_ERRORS=TRUE)\n",
    "WHERE estatActual not in (0,6)\n",
    "GROUP BY idTram\n",
    "ORDER BY mitjana_estat DESC\n",
    "LIMIT 10\n",
    "\"\"\").to_df()\n"
   ]
  },
  {
   "cell_type": "code",
   "execution_count": 28,
   "id": "b9668371",
   "metadata": {},
   "outputs": [],
   "source": [
    "import pandas as pd\n",
    "\n",
    "query = f\"\"\"\n",
    "SELECT DISTINCT \n",
    "    SUBSTR(CAST(data AS VARCHAR), 1, 8) AS dia\n",
    "FROM read_csv_auto('{carpeta_csv}*_TRAMS_TRAMS.csv', \n",
    "                   AUTO_DETECT=TRUE, \n",
    "                   IGNORE_ERRORS=TRUE)\n",
    "\"\"\"\n",
    "dies_present = duckdb.query(query).to_df()\n",
    "dies_present[\"dia\"] = pd.to_datetime(dies_present[\"dia\"], format=\"%Y%m%d\")\n"
   ]
  },
  {
   "cell_type": "code",
   "execution_count": 29,
   "id": "6fd5a2f8",
   "metadata": {},
   "outputs": [],
   "source": [
    "dates_totals = pd.date_range(start=\"2017-10-01\", end=\"2025-02-28\", freq=\"D\")"
   ]
  },
  {
   "cell_type": "code",
   "execution_count": 31,
   "id": "072e9c68",
   "metadata": {},
   "outputs": [
    {
     "name": "stdout",
     "output_type": "stream",
     "text": [
      "S'han detectat 359 dies sense dades.\n",
      "DatetimeIndex(['2019-07-01', '2019-07-02', '2019-07-03', '2019-07-04',\n",
      "               '2019-07-05', '2019-07-06', '2019-07-07', '2019-07-08',\n",
      "               '2019-07-09', '2019-07-10', '2019-07-11', '2019-07-12',\n",
      "               '2019-07-13', '2019-07-14', '2019-07-15', '2019-07-16',\n",
      "               '2019-07-17', '2019-07-18', '2019-07-19', '2019-07-20',\n",
      "               '2019-07-21', '2019-07-22', '2019-07-23', '2019-07-24',\n",
      "               '2019-07-25', '2019-07-26', '2019-07-27', '2019-07-28',\n",
      "               '2019-07-29', '2019-07-30', '2019-07-31', '2019-09-01',\n",
      "               '2019-09-02', '2019-09-03', '2019-09-04', '2019-09-05',\n",
      "               '2019-09-06', '2019-09-07', '2019-09-08', '2019-09-09',\n",
      "               '2019-09-10', '2019-09-11', '2019-09-12', '2019-09-13',\n",
      "               '2019-09-14', '2019-09-15', '2019-09-16', '2019-09-17',\n",
      "               '2019-09-18', '2019-09-19', '2019-09-20', '2019-09-21',\n",
      "               '2019-09-22', '2019-09-23', '2019-09-24', '2019-09-25',\n",
      "               '2019-09-26', '2019-09-27', '2019-09-28', '2019-09-29',\n",
      "               '2019-09-30', '2020-01-01', '2020-01-02', '2020-01-03',\n",
      "               '2020-01-04', '2020-01-05', '2020-01-06', '2020-01-07',\n",
      "               '2020-01-08', '2020-01-09', '2020-01-10', '2020-01-11',\n",
      "               '2020-01-12', '2020-01-13', '2020-01-14', '2020-01-15',\n",
      "               '2020-01-16', '2020-01-17', '2020-01-18', '2020-01-19',\n",
      "               '2020-01-20', '2020-01-21', '2020-01-22', '2020-01-23',\n",
      "               '2020-01-24', '2020-01-25', '2020-01-26', '2020-01-27',\n",
      "               '2020-01-28', '2020-01-29', '2020-01-30', '2020-01-31',\n",
      "               '2020-04-01', '2020-04-02', '2020-04-03', '2020-04-04',\n",
      "               '2020-04-05', '2020-04-06', '2020-04-07', '2020-04-08'],\n",
      "              dtype='datetime64[ns]', freq=None)\n"
     ]
    }
   ],
   "source": [
    "dates_falten = dates_totals[~dates_totals.isin(dies_present[\"dia\"])]\n",
    "print(f\"S'han detectat {len(dates_falten)} dies sense dades.\")\n",
    "print(dates_falten[:100])"
   ]
  },
  {
   "cell_type": "code",
   "execution_count": 32,
   "id": "3e6b466f",
   "metadata": {},
   "outputs": [
    {
     "data": {
      "image/png": "[encoded data removed]",
      "text/plain": [
       "<Figure size 1500x400 with 1 Axes>"
      ]
     },
     "metadata": {},
     "output_type": "display_data"
    }
   ],
   "source": [
    "dies_present[\"mes\"] = dies_present[\"dia\"].dt.to_period(\"M\")\n",
    "presencia_per_mes = dies_present.groupby(\"mes\").size().reset_index(name=\"dies_present\")\n",
    "\n",
    "# Compara amb dies totals per mes\n",
    "from pandas.tseries.offsets import MonthEnd\n",
    "presencia_per_mes[\"dies_mes\"] = presencia_per_mes[\"mes\"].apply(lambda m: (m.to_timestamp() + MonthEnd(0)).day)\n",
    "presencia_per_mes[\"percentatge_complet\"] = presencia_per_mes[\"dies_present\"] / presencia_per_mes[\"dies_mes\"] * 100\n",
    "\n",
    "import matplotlib.pyplot as plt\n",
    "presencia_per_mes.set_index(\"mes\")[\"percentatge_complet\"].plot(kind=\"bar\", figsize=(15, 4))\n",
    "plt.axhline(100, color=\"red\", linestyle=\"--\")\n",
    "plt.title(\"Percentatge de dies amb dades per mes\")\n",
    "plt.ylabel(\"% complet\")\n",
    "plt.tight_layout()\n",
    "plt.show()\n"
   ]
  },
  {
   "cell_type": "code",
   "execution_count": null,
   "id": "007eac8a",
   "metadata": {},
   "outputs": [],
   "source": []
  }
 ],
 "metadata": {
  "kernelspec": {
   "display_name": ".venv",
   "language": "python",
   "name": "python3"
  },
  "language_info": {
   "codemirror_mode": {
    "name": "ipython",
    "version": 3
   },
   "file_extension": ".py",
   "mimetype": "text/x-python",
   "name": "python",
   "nbconvert_exporter": "python",
   "pygments_lexer": "ipython3",
   "version": "3.10.18"
  }
 },
 "nbformat": 4,
 "nbformat_minor": 5
}
