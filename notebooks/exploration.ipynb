{
 "cells": [
  {
   "cell_type": "code",
   "execution_count": 3,
   "id": "007eac8a",
   "metadata": {},
   "outputs": [],
   "source": [
    "import sqlite3\n",
    "import pandas as pd\n",
    "import matplotlib.pyplot as plt\n",
    "\n",
    "# Connexió a la base de dades SQLite\n",
    "conn = sqlite3.connect(\"D:/TFG/Data/Open Data BCN/transit.db\")\n",
    "\n",
    "# 2. Carregar un subconjunt de dades\n",
    "query = \"SELECT idTram, AVG(estatActual) AS mitjana_estat FROM estat_transit WHERE estatActual not in (0,6) GROUP BY idTram\"\n",
    "df = pd.read_sql_query(query, conn)\n"
   ]
  },
  {
   "cell_type": "code",
   "execution_count": 4,
   "id": "71c692e4",
   "metadata": {},
   "outputs": [
    {
     "data": {
      "application/vnd.microsoft.datawrangler.viewer.v0+json": {
       "columns": [
        {
         "name": "index",
         "rawType": "int64",
         "type": "integer"
        },
        {
         "name": "idTram",
         "rawType": "int64",
         "type": "integer"
        },
        {
         "name": "mitjana_estat",
         "rawType": "float64",
         "type": "float"
        }
       ],
       "ref": "97872a0c-11f1-4342-83e2-53c21dea0f06",
       "rows": [
        [
         "0",
         "1",
         "1.9721793841787563"
        ],
        [
         "1",
         "2",
         "1.6343493699337652"
        ],
        [
         "2",
         "3",
         "1.9332305961681637"
        ],
        [
         "3",
         "4",
         "2.1731865772767303"
        ],
        [
         "4",
         "5",
         "2.171061796866786"
        ],
        [
         "5",
         "6",
         "1.8779846309366157"
        ],
        [
         "6",
         "7",
         "1.7371963021443488"
        ],
        [
         "7",
         "8",
         "1.7996909140986015"
        ],
        [
         "8",
         "9",
         "1.4326361947884956"
        ],
        [
         "9",
         "10",
         "1.732330966793884"
        ],
        [
         "10",
         "11",
         "2.34474946313529"
        ],
        [
         "11",
         "12",
         "1.6389381491802686"
        ],
        [
         "12",
         "13",
         "1.156328643920954"
        ],
        [
         "13",
         "14",
         "1.5927209289572537"
        ],
        [
         "14",
         "15",
         "2.165824668405776"
        ],
        [
         "15",
         "16",
         "2.1315618310554916"
        ],
        [
         "16",
         "17",
         "1.3710838845115483"
        ],
        [
         "17",
         "18",
         "2.124162120031177"
        ],
        [
         "18",
         "19",
         "1.3975499067549815"
        ],
        [
         "19",
         "20",
         "1.8997389329236685"
        ],
        [
         "20",
         "21",
         "1.702769708001334"
        ],
        [
         "21",
         "22",
         "2.9666152442869125"
        ],
        [
         "22",
         "23",
         "1.3005573900409457"
        ],
        [
         "23",
         "24",
         "1.5826156773462676"
        ],
        [
         "24",
         "25",
         "1.4310008934332654"
        ],
        [
         "25",
         "26",
         "1.7156289805349838"
        ],
        [
         "26",
         "27",
         "2.6197700080250965"
        ],
        [
         "27",
         "28",
         "1.4702276845505398"
        ],
        [
         "28",
         "29",
         "2.1812790331784897"
        ],
        [
         "29",
         "30",
         "1.8258616075299015"
        ],
        [
         "30",
         "31",
         "1.2675612542661494"
        ],
        [
         "31",
         "35",
         "1.3974686963706857"
        ],
        [
         "32",
         "36",
         "1.0918076640139103"
        ],
        [
         "33",
         "37",
         "1.8821524093163122"
        ],
        [
         "34",
         "38",
         "2.133163559911757"
        ],
        [
         "35",
         "39",
         "2.0549375986338028"
        ],
        [
         "36",
         "40",
         "1.8960851266059704"
        ],
        [
         "37",
         "41",
         "1.6032164646837055"
        ],
        [
         "38",
         "42",
         "1.8012042852801136"
        ],
        [
         "39",
         "43",
         "1.6545620448839138"
        ],
        [
         "40",
         "44",
         "2.0514463883596052"
        ],
        [
         "41",
         "45",
         "1.7606036605370512"
        ],
        [
         "42",
         "46",
         "2.0262424674399013"
        ],
        [
         "43",
         "47",
         "1.5387288829105221"
        ],
        [
         "44",
         "48",
         "2.0"
        ],
        [
         "45",
         "49",
         "1.8818596951880815"
        ],
        [
         "46",
         "50",
         "1.8447520414260108"
        ],
        [
         "47",
         "54",
         "1.3742269382043888"
        ],
        [
         "48",
         "57",
         "2.7558522483040355"
        ],
        [
         "49",
         "58",
         "2.756002818012009"
        ]
       ],
       "shape": {
        "columns": 2,
        "rows": 454
       }
      },
      "text/html": [
       "<div>\n",
       "<style scoped>\n",
       "    .dataframe tbody tr th:only-of-type {\n",
       "        vertical-align: middle;\n",
       "    }\n",
       "\n",
       "    .dataframe tbody tr th {\n",
       "        vertical-align: top;\n",
       "    }\n",
       "\n",
       "    .dataframe thead th {\n",
       "        text-align: right;\n",
       "    }\n",
       "</style>\n",
       "<table border=\"1\" class=\"dataframe\">\n",
       "  <thead>\n",
       "    <tr style=\"text-align: right;\">\n",
       "      <th></th>\n",
       "      <th>idTram</th>\n",
       "      <th>mitjana_estat</th>\n",
       "    </tr>\n",
       "  </thead>\n",
       "  <tbody>\n",
       "    <tr>\n",
       "      <th>0</th>\n",
       "      <td>1</td>\n",
       "      <td>1.972179</td>\n",
       "    </tr>\n",
       "    <tr>\n",
       "      <th>1</th>\n",
       "      <td>2</td>\n",
       "      <td>1.634349</td>\n",
       "    </tr>\n",
       "    <tr>\n",
       "      <th>2</th>\n",
       "      <td>3</td>\n",
       "      <td>1.933231</td>\n",
       "    </tr>\n",
       "    <tr>\n",
       "      <th>3</th>\n",
       "      <td>4</td>\n",
       "      <td>2.173187</td>\n",
       "    </tr>\n",
       "    <tr>\n",
       "      <th>4</th>\n",
       "      <td>5</td>\n",
       "      <td>2.171062</td>\n",
       "    </tr>\n",
       "    <tr>\n",
       "      <th>...</th>\n",
       "      <td>...</td>\n",
       "      <td>...</td>\n",
       "    </tr>\n",
       "    <tr>\n",
       "      <th>449</th>\n",
       "      <td>539</td>\n",
       "      <td>1.699002</td>\n",
       "    </tr>\n",
       "    <tr>\n",
       "      <th>450</th>\n",
       "      <td>2001</td>\n",
       "      <td>1.934579</td>\n",
       "    </tr>\n",
       "    <tr>\n",
       "      <th>451</th>\n",
       "      <td>2002</td>\n",
       "      <td>1.932462</td>\n",
       "    </tr>\n",
       "    <tr>\n",
       "      <th>452</th>\n",
       "      <td>2003</td>\n",
       "      <td>2.833333</td>\n",
       "    </tr>\n",
       "    <tr>\n",
       "      <th>453</th>\n",
       "      <td>2004</td>\n",
       "      <td>2.472222</td>\n",
       "    </tr>\n",
       "  </tbody>\n",
       "</table>\n",
       "<p>454 rows × 2 columns</p>\n",
       "</div>"
      ],
      "text/plain": [
       "     idTram  mitjana_estat\n",
       "0         1       1.972179\n",
       "1         2       1.634349\n",
       "2         3       1.933231\n",
       "3         4       2.173187\n",
       "4         5       2.171062\n",
       "..      ...            ...\n",
       "449     539       1.699002\n",
       "450    2001       1.934579\n",
       "451    2002       1.932462\n",
       "452    2003       2.833333\n",
       "453    2004       2.472222\n",
       "\n",
       "[454 rows x 2 columns]"
      ]
     },
     "execution_count": 4,
     "metadata": {},
     "output_type": "execute_result"
    }
   ],
   "source": [
    "df"
   ]
  },
  {
   "cell_type": "code",
   "execution_count": null,
   "id": "c423dec1",
   "metadata": {},
   "outputs": [],
   "source": []
  }
 ],
 "metadata": {
  "kernelspec": {
   "display_name": ".venv",
   "language": "python",
   "name": "python3"
  },
  "language_info": {
   "codemirror_mode": {
    "name": "ipython",
    "version": 3
   },
   "file_extension": ".py",
   "mimetype": "text/x-python",
   "name": "python",
   "nbconvert_exporter": "python",
   "pygments_lexer": "ipython3",
   "version": "3.10.11"
  }
 },
 "nbformat": 4,
 "nbformat_minor": 5
}
